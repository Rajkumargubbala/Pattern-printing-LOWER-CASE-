{
 "cells": [
  {
   "cell_type": "code",
   "execution_count": 30,
   "id": "d1aa2346",
   "metadata": {},
   "outputs": [
    {
     "name": "stdout",
     "output_type": "stream",
     "text": [
      " ***\n",
      "*   *\n",
      "*   *\n",
      " *** *\n"
     ]
    }
   ],
   "source": [
    "# program to print \"a\"\n",
    "a=1\n",
    "while a<=4:\n",
    "    if a==1:\n",
    "        print(' ***')\n",
    "    elif a==2:\n",
    "        print('*   *')\n",
    "    elif a==3:\n",
    "        print('*   *')\n",
    "    elif a==4:\n",
    "        print(' *** *')\n",
    "    a=a+1"
   ]
  },
  {
   "cell_type": "code",
   "execution_count": 48,
   "id": "178a92a0",
   "metadata": {},
   "outputs": [
    {
     "name": "stdout",
     "output_type": "stream",
     "text": [
      "*\n",
      "*\n",
      "* ***\n",
      "*    *\n",
      "*    *\n",
      "*****\n"
     ]
    }
   ],
   "source": [
    "# program to print \"b\"\n",
    "a=1\n",
    "while a<=6:\n",
    "    if a==1:\n",
    "        print('*')\n",
    "    elif a==2:\n",
    "        print('*')\n",
    "    elif a==3:\n",
    "        print('* ***')\n",
    "    elif a==4:\n",
    "        print('*    *')\n",
    "    elif a==5:\n",
    "        print('*    *')\n",
    "    elif a==6:\n",
    "        print('*****')\n",
    "    a=a+1"
   ]
  },
  {
   "cell_type": "code",
   "execution_count": 44,
   "id": "dbf5a43a",
   "metadata": {},
   "outputs": [
    {
     "name": "stdout",
     "output_type": "stream",
     "text": [
      " ****\n",
      "*\n",
      "*\n",
      "*\n",
      " ****\n"
     ]
    }
   ],
   "source": [
    "# program to print \"c\"\n",
    "a=1\n",
    "while a<=5:\n",
    "    if a==1:\n",
    "        print(' ****')\n",
    "    elif a==2:\n",
    "        print('*')\n",
    "    elif a==3:\n",
    "        print('*')\n",
    "    elif a==4:\n",
    "        print('*')\n",
    "    elif a==5:\n",
    "        print(' ****')\n",
    "    a=a+1"
   ]
  },
  {
   "cell_type": "code",
   "execution_count": 47,
   "id": "3848522e",
   "metadata": {},
   "outputs": [
    {
     "name": "stdout",
     "output_type": "stream",
     "text": [
      "     *\n",
      "     *\n",
      " *** *\n",
      "*    *\n",
      "*    *\n",
      " *****\n"
     ]
    }
   ],
   "source": [
    "# program to print \"d\"\n",
    "a=1\n",
    "while a<=6:\n",
    "    if a==1:\n",
    "        print('     *')\n",
    "    elif a==2:\n",
    "        print('     *')\n",
    "    elif a==3:\n",
    "        print(' *** *')\n",
    "    elif a==4:\n",
    "        print('*    *')\n",
    "    elif a==5:\n",
    "        print('*    *')\n",
    "    elif a==6:\n",
    "        print(' *****')\n",
    "    a=a+1"
   ]
  },
  {
   "cell_type": "code",
   "execution_count": 66,
   "id": "5c009372",
   "metadata": {},
   "outputs": [
    {
     "name": "stdout",
     "output_type": "stream",
     "text": [
      " *****\n",
      "*    *\n",
      "* ****\n",
      "*\n",
      " *****\n"
     ]
    }
   ],
   "source": [
    "# program to print \"e\"\n",
    "a=1\n",
    "while a<=5:\n",
    "    if a==1:\n",
    "        print(' *****')\n",
    "    elif a==2:\n",
    "        print('*    *')\n",
    "    elif a==3:\n",
    "        print('* ****')\n",
    "    elif a==4:\n",
    "        print('*')\n",
    "    elif a==5:\n",
    "        print(' *****')\n",
    "    a=a+1"
   ]
  },
  {
   "cell_type": "code",
   "execution_count": 10,
   "id": "dbaad725",
   "metadata": {},
   "outputs": [
    {
     "name": "stdout",
     "output_type": "stream",
     "text": [
      "   *****\n",
      "  *\n",
      "  ****\n",
      "  *\n",
      " *\n"
     ]
    }
   ],
   "source": [
    "# program to print \"f\"\n",
    "a=1\n",
    "while a<=5:\n",
    "    if a==1:\n",
    "        print('   *****')\n",
    "    elif a==2:\n",
    "        print('  *')\n",
    "    elif a==3:\n",
    "        print('  ****')\n",
    "    elif a==4:\n",
    "        print('  *')\n",
    "    elif a==5:\n",
    "        print(' *')\n",
    "    a=a+1"
   ]
  },
  {
   "cell_type": "code",
   "execution_count": 44,
   "id": "39c2b60b",
   "metadata": {},
   "outputs": [
    {
     "name": "stdout",
     "output_type": "stream",
     "text": [
      " *****\n",
      "*     *\n",
      " ******\n",
      "      *\n",
      "******\n"
     ]
    }
   ],
   "source": [
    "# program to print \"g\"\n",
    "a=1\n",
    "while a<=5:\n",
    "    if a==1:\n",
    "        print(' *****')\n",
    "    elif a==2:\n",
    "        print('*     *')\n",
    "    elif a==3:\n",
    "        print(' ******')\n",
    "    elif a==4:\n",
    "        print('      *')\n",
    "    elif a==5:\n",
    "        print('******')\n",
    "    a=a+1"
   ]
  },
  {
   "cell_type": "code",
   "execution_count": 109,
   "id": "2a544d13",
   "metadata": {},
   "outputs": [
    {
     "name": "stdout",
     "output_type": "stream",
     "text": [
      "|\n",
      "|\n",
      "| ___\n",
      "|    |\n",
      "|    |\n"
     ]
    }
   ],
   "source": [
    "# program to print \"h\"\n",
    "a=1\n",
    "while a<=5:\n",
    "    if a==1:\n",
    "        print('|')\n",
    "    elif a==2:\n",
    "        print('|')\n",
    "    elif a==3:\n",
    "        print('| ___')\n",
    "    elif a==4:\n",
    "        print('|    |')\n",
    "    elif a==5:\n",
    "        print('|    |')\n",
    "    a=a+1"
   ]
  },
  {
   "cell_type": "code",
   "execution_count": 5,
   "id": "baaae829",
   "metadata": {},
   "outputs": [
    {
     "name": "stdout",
     "output_type": "stream",
     "text": [
      "  o\n",
      " **  \n",
      "  *\n",
      "  *\n",
      "   **\n"
     ]
    }
   ],
   "source": [
    "# program to print \"i\"\n",
    "a=1\n",
    "while a<=5:\n",
    "    if a==1:\n",
    "        print('  o')\n",
    "    elif a==2:\n",
    "        print(' **  ')\n",
    "    elif a==3:\n",
    "        print('  *')\n",
    "    elif a==4:\n",
    "        print('  *')\n",
    "    elif a==5:\n",
    "        print('   **')\n",
    "    a=a+1"
   ]
  },
  {
   "cell_type": "code",
   "execution_count": 6,
   "id": "da10b663",
   "metadata": {},
   "outputs": [
    {
     "name": "stdout",
     "output_type": "stream",
     "text": [
      "   o\n",
      "  **\n",
      "   *\n",
      "   *\n",
      " **\n"
     ]
    }
   ],
   "source": [
    "# program to print \"j\"\n",
    "a=1\n",
    "while a<=5:\n",
    "    if a==1:\n",
    "        print('   o')\n",
    "    elif a==2:\n",
    "        print('  **')\n",
    "    elif a==3:\n",
    "        print('   *')\n",
    "    elif a==4:\n",
    "        print('   *')\n",
    "    elif a==5:\n",
    "        print(' **')\n",
    "    a=a+1"
   ]
  },
  {
   "cell_type": "code",
   "execution_count": 8,
   "id": "350e3e06",
   "metadata": {},
   "outputs": [
    {
     "name": "stdout",
     "output_type": "stream",
     "text": [
      "*\n",
      "*   *\n",
      "*  *\n",
      "**\n",
      "*  *\n",
      "*   *\n"
     ]
    }
   ],
   "source": [
    "# program to print \"k\"\n",
    "a=1\n",
    "while a<=6:\n",
    "    if a==1:\n",
    "        print('*')\n",
    "    elif a==2:\n",
    "        print('*   *')\n",
    "    elif a==3:\n",
    "        print('*  *')\n",
    "    elif a==4:\n",
    "        print('**')\n",
    "    elif a==5:\n",
    "        print('*  *')\n",
    "    elif a==6:\n",
    "        print('*   *')\n",
    "    a=a+1"
   ]
  },
  {
   "cell_type": "code",
   "execution_count": 16,
   "id": "ba74c525",
   "metadata": {},
   "outputs": [
    {
     "name": "stdout",
     "output_type": "stream",
     "text": [
      "|\n",
      "|\n",
      "|\n",
      "|\n",
      "|\n"
     ]
    }
   ],
   "source": [
    "# program to print \"l\"\n",
    "a=1\n",
    "while a<=5:\n",
    "    if a==1:\n",
    "        print('|')\n",
    "    elif a==2:\n",
    "        print('|')\n",
    "    elif a==3:\n",
    "        print('|')\n",
    "    elif a==4:\n",
    "        print('|')\n",
    "    elif a==5:\n",
    "        print('|')\n",
    "    a=a+1"
   ]
  },
  {
   "cell_type": "code",
   "execution_count": 18,
   "id": "65203f8c",
   "metadata": {
    "scrolled": true
   },
   "outputs": [
    {
     "name": "stdout",
     "output_type": "stream",
     "text": [
      "\n",
      "  **** ****\n",
      " *    *    *\n",
      " *    *    *\n",
      " *    *    *\n"
     ]
    }
   ],
   "source": [
    "# program to print \"m\"\n",
    "a=1\n",
    "while a<=5:\n",
    "    if a==1:\n",
    "        print('')\n",
    "    elif a==2:\n",
    "        print('  **** ****')\n",
    "    elif a==3:\n",
    "        print(' *    *    *')\n",
    "    elif a==4:\n",
    "        print(' *    *    *')\n",
    "    elif a==5:\n",
    "        print(' *    *    *')\n",
    "    a=a+1"
   ]
  },
  {
   "cell_type": "code",
   "execution_count": 32,
   "id": "a924cc8f",
   "metadata": {},
   "outputs": [
    {
     "name": "stdout",
     "output_type": "stream",
     "text": [
      "\n",
      "  ****\n",
      " *    *\n",
      " *    *\n",
      " *    *\n"
     ]
    }
   ],
   "source": [
    "# program to print \"n\"\n",
    "a=1\n",
    "while a<=5:\n",
    "    if a==1:\n",
    "        print('')\n",
    "    elif a==2:\n",
    "        print('  ****')\n",
    "    elif a==3:\n",
    "        print(' *    *')\n",
    "    elif a==4:\n",
    "        print(' *    *')\n",
    "    elif a==5:\n",
    "        print(' *    *')\n",
    "    a=a+1"
   ]
  },
  {
   "cell_type": "code",
   "execution_count": 37,
   "id": "910abfe7",
   "metadata": {},
   "outputs": [
    {
     "name": "stdout",
     "output_type": "stream",
     "text": [
      "  ***\n",
      "*     *\n",
      "*     *\n",
      "  ***\n"
     ]
    }
   ],
   "source": [
    "# program to print \"o\"\n",
    "a=1\n",
    "while a<=4:\n",
    "    if a==1:\n",
    "        print('  ***')\n",
    "    elif a==2:\n",
    "        print('*     *')\n",
    "    elif a==3:\n",
    "        print('*     *')\n",
    "    elif a==4:\n",
    "        print('  ***')\n",
    "    a=a+1"
   ]
  },
  {
   "cell_type": "code",
   "execution_count": 47,
   "id": "afd444b5",
   "metadata": {},
   "outputs": [
    {
     "name": "stdout",
     "output_type": "stream",
     "text": [
      "*\n",
      " * ***\n",
      " *     *\n",
      " *     *\n",
      " * ***\n",
      " *\n",
      " *\n"
     ]
    }
   ],
   "source": [
    "# program to print \"p\"\n",
    "a=0\n",
    "while a<=6:\n",
    "    if a==0:\n",
    "        print('*')\n",
    "    if a==1:\n",
    "        print(' * ***')\n",
    "    elif a==2:\n",
    "        print(' *     *')\n",
    "    elif a==3:\n",
    "        print(' *     *')\n",
    "    elif a==4:\n",
    "        print(' * ***')\n",
    "    elif a==5:\n",
    "        print(' *')\n",
    "    elif a==6:\n",
    "        print(' *')\n",
    "    a=a+1"
   ]
  },
  {
   "cell_type": "code",
   "execution_count": 4,
   "id": "65cb73a4",
   "metadata": {},
   "outputs": [
    {
     "name": "stdout",
     "output_type": "stream",
     "text": [
      "        *\n",
      "   *** *\n",
      " *     *\n",
      " *     *\n",
      "   *****\n",
      "       * *\n",
      "       *\n"
     ]
    }
   ],
   "source": [
    "# program to print \"q\"\n",
    "a=0\n",
    "while a<=6:\n",
    "    if a==0:\n",
    "        print('        *')\n",
    "    if a==1:\n",
    "        print('   *** *')\n",
    "    elif a==2:\n",
    "        print(' *     *')\n",
    "    elif a==3:\n",
    "        print(' *     *')\n",
    "    elif a==4:\n",
    "        print('   *****')\n",
    "    elif a==5:\n",
    "        print('       * *')\n",
    "    elif a==6:\n",
    "        print('       *')\n",
    "    a=a+1"
   ]
  },
  {
   "cell_type": "code",
   "execution_count": 9,
   "id": "67f9e0c6",
   "metadata": {},
   "outputs": [
    {
     "name": "stdout",
     "output_type": "stream",
     "text": [
      "*  **\n",
      " *   *\n",
      " *     \n",
      " *     \n"
     ]
    }
   ],
   "source": [
    "# program to print \"r\"\n",
    "a=0\n",
    "while a<=6:\n",
    "    if a==0:\n",
    "        print('*  **')\n",
    "    elif a==1:\n",
    "        print(' *   *')\n",
    "    elif a==2:\n",
    "        print(' *     ')\n",
    "    elif a==3:\n",
    "        print(' *     ')\n",
    "    a=a+1    "
   ]
  },
  {
   "cell_type": "code",
   "execution_count": 10,
   "id": "8c254a34",
   "metadata": {},
   "outputs": [
    {
     "name": "stdout",
     "output_type": "stream",
     "text": [
      "  *****\n",
      " *     \n",
      "  *****\n",
      "       *\n",
      "  *****\n"
     ]
    }
   ],
   "source": [
    "# program to print \"s\"\n",
    "a=1\n",
    "while a<=5:\n",
    "    if a==1:\n",
    "        print('  *****')\n",
    "    elif a==2:\n",
    "        print(' *     ')\n",
    "    elif a==3:\n",
    "        print('  *****')\n",
    "    elif a==4:\n",
    "        print('       *')\n",
    "    elif a==5:\n",
    "        print('  *****')\n",
    "    a=a+1"
   ]
  },
  {
   "cell_type": "code",
   "execution_count": 8,
   "id": "0d914010",
   "metadata": {},
   "outputs": [
    {
     "name": "stdout",
     "output_type": "stream",
     "text": [
      "  *\n",
      " ******    \n",
      "  *\n",
      "  *\n",
      "   ****\n"
     ]
    }
   ],
   "source": [
    "# program to print \"t\"\n",
    "a=1\n",
    "while a<=5:\n",
    "    if a==1:\n",
    "        print('  *')\n",
    "    elif a==2:\n",
    "        print(' ******    ')\n",
    "    elif a==3:\n",
    "        print('  *')\n",
    "    elif a==4:\n",
    "        print('  *')\n",
    "    elif a==5:\n",
    "        print('   ****')\n",
    "    a=a+1"
   ]
  },
  {
   "cell_type": "code",
   "execution_count": 13,
   "id": "6065ccd0",
   "metadata": {},
   "outputs": [
    {
     "name": "stdout",
     "output_type": "stream",
     "text": [
      "\n",
      "*     *\n",
      "*     *\n",
      "*     *\n",
      " ***** *\n"
     ]
    }
   ],
   "source": [
    "# program to print \"u\"\n",
    "a=1\n",
    "while a<=5:\n",
    "    if a==1:\n",
    "        print('')\n",
    "    elif a==2:\n",
    "        print('*     *')\n",
    "    elif a==3:\n",
    "        print('*     *')\n",
    "    elif a==4:\n",
    "        print('*     *')\n",
    "    elif a==5:\n",
    "        print(' ***** *')\n",
    "    a=a+1"
   ]
  },
  {
   "cell_type": "code",
   "execution_count": 14,
   "id": "097bb21e",
   "metadata": {},
   "outputs": [
    {
     "name": "stdout",
     "output_type": "stream",
     "text": [
      "*     *\n",
      " *   *\n",
      "  * *\n",
      "   *\n"
     ]
    }
   ],
   "source": [
    "# program to print \"v\"\n",
    "a=1\n",
    "while a<=4:\n",
    "    if a==1:\n",
    "        print('*     *')\n",
    "    elif a==2:\n",
    "        print(' *   *')\n",
    "    elif a==3:\n",
    "        print('  * *')\n",
    "    elif a==4:\n",
    "        print('   *')\n",
    "    a=a+1"
   ]
  },
  {
   "cell_type": "code",
   "execution_count": 16,
   "id": "5d821afe",
   "metadata": {},
   "outputs": [
    {
     "name": "stdout",
     "output_type": "stream",
     "text": [
      "*         *\n",
      "*    *    *\n",
      "*    *    *\n",
      " **** ****\n"
     ]
    }
   ],
   "source": [
    "# program to print \"w\"\n",
    "a=1\n",
    "while a<=4:\n",
    "    if a==1:\n",
    "        print('*         *')\n",
    "    elif a==2:\n",
    "        print('*    *    *')\n",
    "    elif a==3:\n",
    "        print('*    *    *')\n",
    "    elif a==4:\n",
    "        print(' **** ****')\n",
    "    a=a+1"
   ]
  },
  {
   "cell_type": "code",
   "execution_count": 22,
   "id": "b9f0970f",
   "metadata": {},
   "outputs": [
    {
     "name": "stdout",
     "output_type": "stream",
     "text": [
      "***   ***\n",
      "   * *\n",
      "    *\n",
      "   * *\n",
      "***   ***\n"
     ]
    }
   ],
   "source": [
    "# program to print \"x\"\n",
    "a=1\n",
    "while a<=5:\n",
    "    if a==1:\n",
    "        print('***   ***')\n",
    "    elif a==2:\n",
    "        print('   * *')\n",
    "    elif a==3:\n",
    "        print('    *')\n",
    "    elif a==4:\n",
    "        print('   * *')\n",
    "    elif a==5:\n",
    "        print('***   ***')\n",
    "    a=a+1"
   ]
  },
  {
   "cell_type": "code",
   "execution_count": 4,
   "id": "e7d7bb66",
   "metadata": {},
   "outputs": [
    {
     "name": "stdout",
     "output_type": "stream",
     "text": [
      " *    *\n",
      "  *  * \n",
      "   **\n",
      "   *\n",
      "  *\n",
      "*\n"
     ]
    }
   ],
   "source": [
    "# program to print \"y\"\n",
    "a=1\n",
    "while a<=6:\n",
    "    if a==1:\n",
    "        print(' *    *')\n",
    "    elif a==2:\n",
    "        print('  *  * ')\n",
    "    elif a==3:\n",
    "        print('   **')\n",
    "    elif a==4:\n",
    "        print('   *')\n",
    "    elif a==5:\n",
    "        print('  *')\n",
    "    elif a==6:\n",
    "        print('*')\n",
    "    a=a+1"
   ]
  },
  {
   "cell_type": "code",
   "execution_count": 6,
   "id": "37d77181",
   "metadata": {},
   "outputs": [
    {
     "name": "stdout",
     "output_type": "stream",
     "text": [
      "  ****\n",
      "    *\n",
      "   *\n",
      "  ****    \n",
      "  \n"
     ]
    }
   ],
   "source": [
    "# program to print \"z\"\n",
    "a=1\n",
    "while a<=5:\n",
    "    if a==1:\n",
    "        print('  ****')\n",
    "    elif a==2:\n",
    "        print('    *')\n",
    "    elif a==3:\n",
    "        print('   *')\n",
    "    elif a==4:\n",
    "        print('  ****    ')\n",
    "    elif a==5:\n",
    "        print('  ')\n",
    "    a=a+1"
   ]
  },
  {
   "cell_type": "code",
   "execution_count": null,
   "id": "741a2b76",
   "metadata": {},
   "outputs": [],
   "source": []
  }
 ],
 "metadata": {
  "kernelspec": {
   "display_name": "Python 3 (ipykernel)",
   "language": "python",
   "name": "python3"
  },
  "language_info": {
   "codemirror_mode": {
    "name": "ipython",
    "version": 3
   },
   "file_extension": ".py",
   "mimetype": "text/x-python",
   "name": "python",
   "nbconvert_exporter": "python",
   "pygments_lexer": "ipython3",
   "version": "3.9.7"
  }
 },
 "nbformat": 4,
 "nbformat_minor": 5
}
